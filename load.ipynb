{
 "cells": [
  {
   "cell_type": "code",
   "execution_count": 0,
   "metadata": {
    "application/vnd.databricks.v1+cell": {
     "cellMetadata": {},
     "inputWidgets": {},
     "nuid": "d69ec946-4b24-4345-a411-77df2cd78045",
     "showTitle": false,
     "title": ""
    }
   },
   "outputs": [],
   "source": [
    "REDSHIFT_USER = ''\n",
    "REDSHIFT_PASSWORD = ''\n",
    "REDSHIFT_HOST = ''\n",
    "REDSHIFT_PORT = 5439\n",
    "REDSHIFT_DATABASE = ''\n",
    "REDSHIFT_SCHEMA = ''\n",
    "IAM_ROLE = ''\n",
    "\n",
    "TRANSFORMED_MOUNT = '/mnt/transformed' # path to mount serving bucket"
   ]
  },
  {
   "cell_type": "code",
   "execution_count": 0,
   "metadata": {
    "application/vnd.databricks.v1+cell": {
     "cellMetadata": {},
     "inputWidgets": {},
     "nuid": "0aec114c-4f8c-46b9-ade7-448d912061a1",
     "showTitle": false,
     "title": ""
    }
   },
   "outputs": [],
   "source": [
    "def load_s3_to_redshift(type):\n",
    "    print(f'loading {type} to redshift')\n",
    "\n",
    "    conn = psycopg2.connect(dbname=REDSHIFT_DATABASE, host=REDSHIFT_HOST, port=REDSHIFT_PORT, user=REDSHIFT_USER, password=REDSHIFT_PASSWORD)\n",
    "    cur = conn.cursor()\n",
    "\n",
    "    for file in dbutils.fs.ls(f'{TRANSFORMED_MOUNT}/{type}/'):\n",
    "        file_path = file.path\n",
    "        if file_path.endswith('.parquet'):\n",
    "            file_name = file_path.split('/')[-1]\n",
    "            COPY_COMMAND = f\"\"\"\n",
    "                            COPY {REDSHIFT_SCHEMA}.{type} FROM '{SERVING_BUCKET}/{type}/{file_name}'\n",
    "                            IAM_ROLE '{IAM_ROLE}'\n",
    "                            FORMAT AS PARQUET\n",
    "                        \"\"\"\n",
    "            cur.execute(COPY_COMMAND)\n",
    "            cur.execute('COMMIT;')\n",
    "    print(f'done loading {type}')\n",
    "            "
   ]
  },
  {
   "cell_type": "code",
   "execution_count": 0,
   "metadata": {
    "application/vnd.databricks.v1+cell": {
     "cellMetadata": {},
     "inputWidgets": {},
     "nuid": "9beea5aa-58d0-442f-99d0-cdf9695ea0a5",
     "showTitle": false,
     "title": ""
    }
   },
   "outputs": [],
   "source": [
    "load_s3_to_redshift('artists')\n",
    "load_s3_to_redshift('albums')\n",
    "load_s3_to_redshift('tracks')"
   ]
  }
 ],
 "metadata": {
  "application/vnd.databricks.v1+notebook": {
   "dashboards": [],
   "language": "python",
   "notebookMetadata": {
    "pythonIndentUnit": 4
   },
   "notebookName": "Loading",
   "widgets": {}
  }
 },
 "nbformat": 4,
 "nbformat_minor": 0
}
