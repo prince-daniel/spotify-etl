{
 "cells": [
  {
   "cell_type": "code",
   "execution_count": 0,
   "metadata": {
    "application/vnd.databricks.v1+cell": {
     "cellMetadata": {
      "byteLimit": 2048000,
      "rowLimit": 10000
     },
     "inputWidgets": {},
     "nuid": "93782054-542d-47d0-bb04-e230e8a8a9a4",
     "showTitle": true,
     "title": "Importing Packages"
    }
   },
   "outputs": [],
   "source": [
    "import boto3\n",
    "import time\n",
    "import psycopg2\n",
    "from pyspark.sql.functions import floor, when, col, length, to_date\n",
    "from pyspark.sql.utils import AnalysisException\n",
    "from pyspark.sql.types import IntegerType, DateType\n",
    "from pyspark.sql.utils import AnalysisException\n",
    "from datetime import datetime"
   ]
  },
  {
   "cell_type": "code",
   "execution_count": 0,
   "metadata": {
    "application/vnd.databricks.v1+cell": {
     "cellMetadata": {},
     "inputWidgets": {},
     "nuid": "ec21ecc3-2241-4e45-973a-2ff342c83821",
     "showTitle": false,
     "title": ""
    }
   },
   "outputs": [],
   "source": [
    "RAW_MOUNT = '/mnt/raw' # path to mount raw bucket\n",
    "TRANSFORMED_MOUNT = '/mnt/transformed' # path to mount serving bucket\n",
    "ARTISTS_DDB_TABLE = '' # ddb table has artist - name, id along with flag columns\n",
    "SERVING_BUCKET = '' \n",
    "\n",
    "REDSHIFT_USER = ''\n",
    "REDSHIFT_PASSWORD = ''\n",
    "REDSHIFT_HOST = ''\n",
    "REDSHIFT_PORT = 5439\n",
    "REDSHIFT_DATABASE = ''\n",
    "REDSHIFT_SCHEMA = ''\n",
    "IAM_ROLE = ''"
   ]
  },
  {
   "cell_type": "code",
   "execution_count": 0,
   "metadata": {
    "application/vnd.databricks.v1+cell": {
     "cellMetadata": {
      "byteLimit": 2048000,
      "rowLimit": 10000
     },
     "inputWidgets": {},
     "nuid": "fc15cdee-3972-414b-b33b-61635e9c3af2",
     "showTitle": true,
     "title": "UDFs"
    }
   },
   "outputs": [],
   "source": [
    "@udf(returnType=IntegerType())\n",
    "def get_minute(ms):\n",
    "    ms = int(ms)\n",
    "    minute_in_milliseconds = 60000\n",
    "    minutes = ms // minute_in_milliseconds\n",
    "    return minutes\n",
    "    \n",
    "@udf(returnType=IntegerType())\n",
    "def get_second(ms):\n",
    "    ms = int(ms)\n",
    "    second_in_milliseconds = 1000\n",
    "    seconds = (ms // second_in_milliseconds) % 60\n",
    "    return seconds\n",
    "\n",
    "@udf(returnType=DateType())\n",
    "def format_date(date):\n",
    "    formatted_date = None\n",
    "\n",
    "    if len(date) == 4:\n",
    "        formatted_date = datetime.strptime(date, '%Y').date()\n",
    "    elif len(date) == 7:\n",
    "        formatted_date = datetime.strptime(date, '%Y-%m').date()\n",
    "    else:\n",
    "        formatted_date = datetime.strptime(date, '%Y-%m-%d').date()\n",
    "        \n",
    "    return formatted_date\n",
    "    "
   ]
  },
  {
   "cell_type": "code",
   "execution_count": 0,
   "metadata": {
    "application/vnd.databricks.v1+cell": {
     "cellMetadata": {
      "byteLimit": 2048000,
      "rowLimit": 10000
     },
     "inputWidgets": {},
     "nuid": "e73ff126-2897-4302-b8b6-29d8208856fc",
     "showTitle": true,
     "title": "Transformation Logic"
    }
   },
   "outputs": [],
   "source": [
    "def transform_artist(file_path):\n",
    "    artist_df = spark.read.parquet(file_path)\n",
    "    transformed_artist_df = artist_df.selectExpr('id', 'name', 'CAST(popularity AS INTEGER)', 'genres', 'CAST(followers AS INTEGER)', 'href', 'image')\n",
    "    return transformed_artist_df\n",
    "\n",
    "\n",
    "def transform_album(file_path):\n",
    "    album_df = spark.read.parquet(file_path)\n",
    "    filtered_df = album_df.filter(col('total_tracks') != -1)\n",
    "    transformed_album_df = filtered_df.selectExpr('id', 'name', 'artist_name', 'CAST(total_tracks AS INTEGER)','label', 'CAST(popularity AS INTEGER)', 'href', 'image')\n",
    "    return transformed_album_df\n",
    "\n",
    "def transform_track(file_path):\n",
    "    track_df = spark.read.parquet(file_path)\n",
    "    filtered_df = track_df.filter(col('duration_ms') != -1)\n",
    "\n",
    "    transformed_df = filtered_df.withColumn('minute', floor(col('duration_ms')/60000))\\\n",
    "                                .withColumn('second', floor(col('duration_ms')/1000)%60)\\\n",
    "                                .withColumn('release_date', when(length('release_date') == 4, to_date(\"release_date\", \"yyyy\").cast(DateType()))\n",
    "                                                            .when(length(\"release_date\") == 7, to_date(\"release_date\", \"yyyy-MM\").cast(DateType()))\n",
    "                                                            .otherwise(to_date(\"release_date\", \"yyyy-MM-dd\").cast(DateType())))\n",
    "\n",
    "    col_ordered_df = transformed_df.selectExpr('id', 'name', 'CAST(popularity AS INTEGER)', 'CAST(duration_ms AS INTEGER)', 'minute', 'second', 'CAST(explicit AS BOOLEAN)', 'artist_id', 'album_id',           \n",
    "                                               'release_date', 'release_date_precision', 'image', 'href')\n",
    "    return col_ordered_df"
   ]
  },
  {
   "cell_type": "code",
   "execution_count": 0,
   "metadata": {
    "application/vnd.databricks.v1+cell": {
     "cellMetadata": {
      "byteLimit": 2048000,
      "rowLimit": 10000
     },
     "inputWidgets": {},
     "nuid": "430d0b94-30f3-4f96-90b3-8a5d542f55ef",
     "showTitle": true,
     "title": "Transforming"
    }
   },
   "outputs": [
    {
     "output_type": "stream",
     "name": "stdout",
     "output_type": "stream",
     "text": [
      "root\n |-- id: string (nullable = true)\n |-- name: string (nullable = true)\n |-- artist_name: string (nullable = true)\n |-- total_tracks: integer (nullable = true)\n |-- label: string (nullable = true)\n |-- popularity: integer (nullable = true)\n |-- href: string (nullable = true)\n |-- image: string (nullable = true)\n\nroot\n |-- id: string (nullable = true)\n |-- name: string (nullable = true)\n |-- popularity: integer (nullable = true)\n |-- duration_ms: integer (nullable = true)\n |-- minute: long (nullable = true)\n |-- second: long (nullable = true)\n |-- explicit: boolean (nullable = true)\n |-- artist_id: string (nullable = true)\n |-- album_id: string (nullable = true)\n |-- release_date: date (nullable = true)\n |-- release_date_precision: string (nullable = true)\n |-- image: string (nullable = true)\n |-- href: string (nullable = true)\n\n"
     ]
    }
   ],
   "source": [
    "#Transforming Artists\n",
    "transformed_artists = transform_artist(f'{RAW_MOUNT}/artists.parquet').coalesce(1)\n",
    "transformed_artists.write.mode('append').option('path', f'{TRANSFORMED_MOUNT}/artists').saveAsTable('artists')\n",
    "\n",
    "dynamo_db = boto3.client('dynamodb', aws_access_key_id=AWS_ACCESS_KEY, aws_secret_access_key=AWS_SECRET_KEY, region_name='ap-south-1')\n",
    "to_extract = [item['name']['S'] for item in get_all_items(dynamo_db, table_name=ARTISTS_DDB_TABLE) if item['is_extracted']['BOOL'] == True and item['is_transformed']['BOOL'] == False]\n",
    "\n",
    "#Transforming Albums and Tracks\n",
    "for artist in to_extract:\n",
    "    ARTIST_NAME = artist\n",
    "    print(f'transforming data of {ARTIST_NAME}')\n",
    "    ARTIST_PATH = f'{RAW_MOUNT}/{ARTIST_NAME}'\n",
    "    ALBUMS_PATH = f'{ARTIST_PATH}/albums.parquet'\n",
    "    TRACKS_PATH = f'{ARTIST_PATH}/tracks.parquet'\n",
    "\n",
    "    try:\n",
    "        transformed_albums = transform_album(ALBUMS_PATH).coalesce(1)\n",
    "        transformed_albums.write.mode('append').option('path', f'{TRANSFORMED_MOUNT}/albums').saveAsTable('albums')\n",
    "    except AnalysisException as ae:\n",
    "        if 'Path does not exist' in str(ae):\n",
    "            print(f\"\\t-{ARTIST_NAME} doesn't have albums\")\n",
    "\n",
    "    try:\n",
    "        transformed_tracks = transform_track(TRACKS_PATH).coalesce(1)\n",
    "        transformed_tracks.write.mode('append').option('path', f'{TRANSFORMED_MOUNT}/tracks').saveAsTable('tracks')\n",
    "    except AnalysisException as ae:\n",
    "        if 'Path does not exist' in str(ae):\n",
    "            print(f\"\\t-{ARTIST_NAME} doesn't have tracks\")\n",
    "    \n",
    "    # Set `is_transformed` flag to True\n",
    "    update_is_transformed(dynamo_db, table_name=ARTISTS_DDB_TABLE, key=ARTIST_NAME, is_transformed=True)"
   ]
  }
 ],
 "metadata": {
  "application/vnd.databricks.v1+notebook": {
   "dashboards": [],
   "language": "python",
   "notebookMetadata": {
    "mostRecentlyExecutedCommandWithImplicitDF": {
     "commandId": -1,
     "dataframes": [
      "_sqldf"
     ]
    },
    "pythonIndentUnit": 4
   },
   "notebookName": "Transformation",
   "widgets": {}
  }
 },
 "nbformat": 4,
 "nbformat_minor": 0
}
